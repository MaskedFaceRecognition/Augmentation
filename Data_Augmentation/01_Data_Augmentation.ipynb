{
  "nbformat": 4,
  "nbformat_minor": 0,
  "metadata": {
    "colab": {
      "name": "Data Augmentation.ipynb",
      "provenance": [],
      "collapsed_sections": []
    },
    "kernelspec": {
      "name": "python3",
      "display_name": "Python 3"
    }
  },
  "cells": [
    {
      "cell_type": "code",
      "metadata": {
        "id": "Kn28khg4Rm_N"
      },
      "source": [
        "import tensorflow as tf\r\n",
        "import pandas as pd\r\n",
        "import numpy as np\r\n",
        "import matplotlib.pyplot as plt\r\n",
        "import seaborn as sns\r\n",
        "import os\r\n",
        "\r\n",
        "plt.style.use('seaborn')\r\n",
        "sns.set(font_scale = 2.5)\r\n",
        "\r\n",
        "import warnings; warnings.filterwarnings('ignore')\r\n",
        "\r\n",
        "%matplotlib inline"
      ],
      "execution_count": null,
      "outputs": []
    },
    {
      "cell_type": "code",
      "metadata": {
        "colab": {
          "base_uri": "https://localhost:8080/"
        },
        "id": "OHyHTA1URvEU",
        "outputId": "ebabfae1-d191-4e27-dc73-d2a342a6f70c"
      },
      "source": [
        "print(tf.__version__)"
      ],
      "execution_count": null,
      "outputs": [
        {
          "output_type": "stream",
          "text": [
            "2.4.0\n"
          ],
          "name": "stdout"
        }
      ]
    },
    {
      "cell_type": "code",
      "metadata": {
        "colab": {
          "base_uri": "https://localhost:8080/"
        },
        "id": "03V4J8b1RwQe",
        "outputId": "55e08c28-e35c-4049-843c-1ccdedd296b5"
      },
      "source": [
        "from google.colab import drive\r\n",
        "drive.mount('/content/gdrive/')"
      ],
      "execution_count": null,
      "outputs": [
        {
          "output_type": "stream",
          "text": [
            "Mounted at /content/gdrive/\n"
          ],
          "name": "stdout"
        }
      ]
    },
    {
      "cell_type": "code",
      "metadata": {
        "colab": {
          "base_uri": "https://localhost:8080/"
        },
        "id": "kBNGECTURxXa",
        "outputId": "9798868c-fab3-4855-d681-1a7a97f698ba"
      },
      "source": [
        "!cd /content/gdrive/MyDrive/GraduationProject \r\n",
        "# MyDrive(내 드라이브)안에 바로가기를 만들면 된다. => \"!\"추가하여 바로가기 생성하지 않아도됨."
      ],
      "execution_count": null,
      "outputs": [
        {
          "output_type": "stream",
          "text": [
            "/bin/bash: line 0: cd: /content/gdrive/MyDrive/GraduationProject: No such file or directory\n"
          ],
          "name": "stdout"
        }
      ]
    },
    {
      "cell_type": "markdown",
      "metadata": {
        "id": "Mp0s33SlVXSA"
      },
      "source": [
        "Image Data Augmentation 방법\r\n",
        "- rotation_range : 회전(0 ~ 360)\r\n",
        "- width_shift_range = 좌, 우 이동(0 ~ 1)\r\n",
        "- height_shift_range = 위, 아래 이동(0 ~ 1)\r\n",
        "- shear_range = 찌그러뜨리기(0 ~ 1)\r\n",
        "- zoom_range =\r\n",
        "- horizontal_flip = True : 좌우 반전\r\n",
        "- vertical_flip = True : 상하 반전\r\n",
        "- rescale : 조명\r\n",
        "- fill mode (원래 없었던 곳은 어떻게 채우는가?)\r\n",
        "  - 'constant' : 검정색으로 채움\r\n",
        "  - 'nearest' : 가까운 것으로 채움\r\n",
        "  - 'reflect' : 거울로 채움\r\n",
        "  - 'wrap' : 없어진 부분 -> 생겨난 부분\r\n"
      ]
    },
    {
      "cell_type": "code",
      "metadata": {
        "id": "ZCvBUICgRxw_"
      },
      "source": [
        "from keras.preprocessing.image import ImageDataGenerator, array_to_img, img_to_array, load_img\r\n",
        "\r\n",
        "datagen = ImageDataGenerator(\r\n",
        "        rotation_range=40,\r\n",
        "        # 얼굴만 뽑아낸 것에서는 얼굴을 구분하기 힘들 듯 -> 제거\r\n",
        "        # width_shift_range=0.2, # 이미지를 왼쪽 오른쪽으로 0.2(비율) 이동\r\n",
        "        # height_shift_range=0.2, # 위와 같이 높이 이동\r\n",
        "        rescale=1./255,\r\n",
        "        shear_range=0.2,\r\n",
        "        zoom_range=0.2,\r\n",
        "        horizontal_flip=True,\r\n",
        "        fill_mode='nearest')\r\n"
      ],
      "execution_count": null,
      "outputs": []
    },
    {
      "cell_type": "code",
      "metadata": {
        "id": "5Y0h_JamSbnn"
      },
      "source": [
        "img = load_img('/content/gdrive/MyDrive/졸과/사진/ahn_cheol_soo/2Q__ (1).jpg')\r\n",
        "x = img_to_array(img)\r\n",
        "x = x.reshape((1,) + x.shape)\r\n"
      ],
      "execution_count": null,
      "outputs": []
    },
    {
      "cell_type": "code",
      "metadata": {
        "id": "r9P5aTHKSb-s"
      },
      "source": [
        "i = 0\r\n",
        "for batch in datagen.flow(x, batch_size = 1, \r\n",
        "                          save_to_dir = '/content/gdrive/MyDrive/졸과/preview', save_prefix = 'ahn_cheol_soo', save_format = 'jpg'):\r\n",
        "  i += 1\r\n",
        "  if i > 20:\r\n",
        "    break"
      ],
      "execution_count": null,
      "outputs": []
    },
    {
      "cell_type": "code",
      "metadata": {
        "id": "er2YJsY3Tww-"
      },
      "source": [
        ""
      ],
      "execution_count": null,
      "outputs": []
    }
  ]
}